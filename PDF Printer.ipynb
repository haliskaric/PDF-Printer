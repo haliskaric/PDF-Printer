{
 "cells": [
  {
   "cell_type": "code",
   "execution_count": 7,
   "id": "53ec6930",
   "metadata": {},
   "outputs": [
    {
     "name": "stderr",
     "output_type": "stream",
     "text": [
      "C:\\Users\\halis\\AppData\\Local\\Temp\\ipykernel_28584\\2400882830.py:18: DeprecationWarning: executable_path has been deprecated, please pass in a Service object\n",
      "  driver = webdriver.Chrome(ChromeDriverManager().install(), options=chrome_options)\n"
     ]
    }
   ],
   "source": [
    "from selenium import webdriver\n",
    "from selenium.webdriver.chrome.options import Options\n",
    "from webdriver_manager.chrome import ChromeDriverManager\n",
    "import time\n",
    "import base64\n",
    "\n",
    "# List of websites to capture\n",
    "websites = ['https://www.python.org', 'https://www.google.com']\n",
    "\n",
    "chrome_options = Options()\n",
    "chrome_options.add_argument(\"--headless\")  # Ensure GUI is off. It won't work with GUI.\n",
    "chrome_options.add_argument(\"--disable-gpu\")\n",
    "chrome_options.add_argument(\"--window-size=1280x1696\")  # Standard window size.\n",
    "chrome_options.add_argument(\"--no-sandbox\")\n",
    "chrome_options.add_argument(\"--disable-software-rasterizer\")\n",
    "\n",
    "# Set up the driver\n",
    "driver = webdriver.Chrome(ChromeDriverManager().install(), options=chrome_options)\n",
    "\n",
    "for website in websites:\n",
    "    # Navigate to the website\n",
    "    driver.get(website)\n",
    "    \n",
    "    # Optionally, wait for the page to load completely. Adjust the time as needed.\n",
    "    time.sleep(3)\n",
    "\n",
    "    # Save webpage as pdf\n",
    "    print_to_pdf = {\n",
    "        \"cmd\": \"Page.printToPDF\",\n",
    "        \"params\": {\n",
    "            \"landscape\": False\n",
    "        }\n",
    "    }\n",
    "\n",
    "    output_file_name = f'{website.replace(\"https://\", \"\").replace(\"/\", \"_\")}.pdf'\n",
    "    with open(output_file_name, \"wb\") as f_out:\n",
    "        pdf_data = driver.execute_cdp_cmd(\"Page.printToPDF\", {})\n",
    "        f_out.write(base64.b64decode(pdf_data['data']))\n",
    "\n",
    "# Close the driver\n",
    "driver.quit()\n"
   ]
  },
  {
   "cell_type": "code",
   "execution_count": null,
   "id": "66edd963",
   "metadata": {},
   "outputs": [],
   "source": []
  },
  {
   "cell_type": "code",
   "execution_count": null,
   "id": "885e075f",
   "metadata": {},
   "outputs": [],
   "source": []
  },
  {
   "cell_type": "code",
   "execution_count": null,
   "id": "ad6c5c7a",
   "metadata": {},
   "outputs": [],
   "source": []
  }
 ],
 "metadata": {
  "kernelspec": {
   "display_name": "Python 3 (ipykernel)",
   "language": "python",
   "name": "python3"
  },
  "language_info": {
   "codemirror_mode": {
    "name": "ipython",
    "version": 3
   },
   "file_extension": ".py",
   "mimetype": "text/x-python",
   "name": "python",
   "nbconvert_exporter": "python",
   "pygments_lexer": "ipython3",
   "version": "3.9.12"
  }
 },
 "nbformat": 4,
 "nbformat_minor": 5
}
